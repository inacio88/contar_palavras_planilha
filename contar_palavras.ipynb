{
 "cells": [
  {
   "cell_type": "code",
   "execution_count": 18,
   "id": "cda398fc",
   "metadata": {},
   "outputs": [],
   "source": [
    "import pandas as pd\n",
    "import matplotlib.pyplot as plt\n",
    "from wordcloud import WordCloud\n",
    "import sys, os\n",
    "from collections import Counter"
   ]
  },
  {
   "cell_type": "code",
   "execution_count": 27,
   "id": "764f5da4",
   "metadata": {},
   "outputs": [],
   "source": [
    "#aqui vc coloca o nome do seu arquivo, o nome que eu utilizei era 'mi', é só substituir pelo nome do seu arquivo\n",
    "dados = pd.read_csv ('mi.csv', sep='\\t', low_memory=False)\n",
    "#tweet é nome da coluna na planilha\n",
    "df = pd.DataFrame(dados, columns= ['tweet'])\n",
    "df2 = df.to_string().lower()\n"
   ]
  },
  {
   "cell_type": "code",
   "execution_count": 38,
   "id": "07724bae",
   "metadata": {},
   "outputs": [
    {
     "name": "stdout",
     "output_type": "stream",
     "text": [
      "1° ('de', 5244)\n",
      "2° ('eu', 5103)\n",
      "3° ('que', 4751)\n",
      "4° ('a', 4219)\n",
      "5° ('o', 3942)\n",
      "6° ('e', 3741)\n",
      "7° ('não', 2988)\n",
      "8° ('é', 2406)\n",
      "9° ('pra', 1884)\n",
      "10° ('com', 1722)\n"
     ]
    }
   ],
   "source": [
    "split_it = df2.split()\n",
    "CounterVar = Counter(split_it)\n",
    "#o número entre parênteses é o número de palvras mais usadas que vc quer, aqui no exemplo são as 10 palavras\n",
    "#mais ultilizadas\n",
    "most_occur = CounterVar.most_common(10)\n",
    "  \n",
    "#print(most_occur)\n",
    "i = 0\n",
    "for palavra in most_occur:\n",
    "    i += 1\n",
    "    print(f'{i}° {palavra}')"
   ]
  },
  {
   "cell_type": "code",
   "execution_count": null,
   "id": "e4e6b550",
   "metadata": {},
   "outputs": [],
   "source": []
  }
 ],
 "metadata": {
  "kernelspec": {
   "display_name": "Python 3 (ipykernel)",
   "language": "python",
   "name": "python3"
  },
  "language_info": {
   "codemirror_mode": {
    "name": "ipython",
    "version": 3
   },
   "file_extension": ".py",
   "mimetype": "text/x-python",
   "name": "python",
   "nbconvert_exporter": "python",
   "pygments_lexer": "ipython3",
   "version": "3.8.11"
  }
 },
 "nbformat": 4,
 "nbformat_minor": 5
}
